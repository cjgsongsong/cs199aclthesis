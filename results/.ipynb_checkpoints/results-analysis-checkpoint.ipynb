{
 "cells": [
  {
   "cell_type": "code",
   "execution_count": 45,
   "metadata": {},
   "outputs": [],
   "source": [
    "import matplotlib.pyplot as plt\n",
    "import numpy as np\n",
    "import pandas as pd\n",
    "from sklearn.preprocessing import StandardScaler\n",
    "\n",
    "algo2 = pd.read_csv('algo2.csv')\n",
    "optsol = pd.read_csv('optsol.csv')"
   ]
  },
  {
   "cell_type": "code",
   "execution_count": 46,
   "metadata": {},
   "outputs": [
    {
     "data": {
      "text/html": [
       "<div>\n",
       "<style scoped>\n",
       "    .dataframe tbody tr th:only-of-type {\n",
       "        vertical-align: middle;\n",
       "    }\n",
       "\n",
       "    .dataframe tbody tr th {\n",
       "        vertical-align: top;\n",
       "    }\n",
       "\n",
       "    .dataframe thead th {\n",
       "        text-align: right;\n",
       "    }\n",
       "</style>\n",
       "<table border=\"1\" class=\"dataframe\">\n",
       "  <thead>\n",
       "    <tr style=\"text-align: right;\">\n",
       "      <th></th>\n",
       "      <th>runtime_algo2</th>\n",
       "      <th>input</th>\n",
       "      <th>input_size</th>\n",
       "      <th>vertex_count</th>\n",
       "      <th>cost_algo2</th>\n",
       "      <th>output_algo2</th>\n",
       "    </tr>\n",
       "  </thead>\n",
       "  <tbody>\n",
       "    <tr>\n",
       "      <th>90</th>\n",
       "      <td>0.000025</td>\n",
       "      <td>[2, 4, 3, 1]-[4, 3, 2, 1]</td>\n",
       "      <td>2</td>\n",
       "      <td>4</td>\n",
       "      <td>2</td>\n",
       "      <td>['[(2, 1), (2, 3), (2, 4), (3, 1), (4, 1), (4,...</td>\n",
       "    </tr>\n",
       "    <tr>\n",
       "      <th>886</th>\n",
       "      <td>0.000194</td>\n",
       "      <td>[1, 2, 4, 3]-[1, 3, 2, 4]-[2, 3, 1, 4]-[2, 3, ...</td>\n",
       "      <td>9</td>\n",
       "      <td>4</td>\n",
       "      <td>8</td>\n",
       "      <td>['[(1, 2), (1, 3), (1, 4), (2, 3), (2, 4), (4,...</td>\n",
       "    </tr>\n",
       "    <tr>\n",
       "      <th>1364</th>\n",
       "      <td>0.000525</td>\n",
       "      <td>[1, 2, 4, 3]-[1, 3, 2, 4]-[1, 3, 4, 2]-[1, 4, ...</td>\n",
       "      <td>14</td>\n",
       "      <td>4</td>\n",
       "      <td>16</td>\n",
       "      <td>['[(1, 2), (1, 3), (1, 4), (2, 3), (4, 3)]', '...</td>\n",
       "    </tr>\n",
       "    <tr>\n",
       "      <th>580</th>\n",
       "      <td>0.000093</td>\n",
       "      <td>[1, 4, 2, 3]-[2, 3, 1, 4]-[3, 1, 2, 4]-[3, 1, ...</td>\n",
       "      <td>6</td>\n",
       "      <td>4</td>\n",
       "      <td>5</td>\n",
       "      <td>['[(1, 2), (1, 3), (2, 3), (4, 2), (4, 3)]', '...</td>\n",
       "    </tr>\n",
       "    <tr>\n",
       "      <th>33</th>\n",
       "      <td>0.000032</td>\n",
       "      <td>[1, 3, 2]-[2, 1, 3]-[3, 2, 1]</td>\n",
       "      <td>3</td>\n",
       "      <td>3</td>\n",
       "      <td>3</td>\n",
       "      <td>['[(1, 2), (1, 3), (3, 2)]', '[(1, 3), (2, 1),...</td>\n",
       "    </tr>\n",
       "  </tbody>\n",
       "</table>\n",
       "</div>"
      ],
      "text/plain": [
       "      runtime_algo2                                              input  \\\n",
       "90         0.000025                          [2, 4, 3, 1]-[4, 3, 2, 1]   \n",
       "886        0.000194  [1, 2, 4, 3]-[1, 3, 2, 4]-[2, 3, 1, 4]-[2, 3, ...   \n",
       "1364       0.000525  [1, 2, 4, 3]-[1, 3, 2, 4]-[1, 3, 4, 2]-[1, 4, ...   \n",
       "580        0.000093  [1, 4, 2, 3]-[2, 3, 1, 4]-[3, 1, 2, 4]-[3, 1, ...   \n",
       "33         0.000032                      [1, 3, 2]-[2, 1, 3]-[3, 2, 1]   \n",
       "\n",
       "      input_size  vertex_count  cost_algo2  \\\n",
       "90             2             4           2   \n",
       "886            9             4           8   \n",
       "1364          14             4          16   \n",
       "580            6             4           5   \n",
       "33             3             3           3   \n",
       "\n",
       "                                           output_algo2  \n",
       "90    ['[(2, 1), (2, 3), (2, 4), (3, 1), (4, 1), (4,...  \n",
       "886   ['[(1, 2), (1, 3), (1, 4), (2, 3), (2, 4), (4,...  \n",
       "1364  ['[(1, 2), (1, 3), (1, 4), (2, 3), (4, 3)]', '...  \n",
       "580   ['[(1, 2), (1, 3), (2, 3), (4, 2), (4, 3)]', '...  \n",
       "33    ['[(1, 2), (1, 3), (3, 2)]', '[(1, 3), (2, 1),...  "
      ]
     },
     "execution_count": 46,
     "metadata": {},
     "output_type": "execute_result"
    }
   ],
   "source": [
    "algo2.sample(n=5)"
   ]
  },
  {
   "cell_type": "code",
   "execution_count": 48,
   "metadata": {},
   "outputs": [
    {
     "data": {
      "text/html": [
       "<div>\n",
       "<style scoped>\n",
       "    .dataframe tbody tr th:only-of-type {\n",
       "        vertical-align: middle;\n",
       "    }\n",
       "\n",
       "    .dataframe tbody tr th {\n",
       "        vertical-align: top;\n",
       "    }\n",
       "\n",
       "    .dataframe thead th {\n",
       "        text-align: right;\n",
       "    }\n",
       "</style>\n",
       "<table border=\"1\" class=\"dataframe\">\n",
       "  <thead>\n",
       "    <tr style=\"text-align: right;\">\n",
       "      <th></th>\n",
       "      <th>input</th>\n",
       "      <th>input_size</th>\n",
       "      <th>vertex_count</th>\n",
       "      <th>cost_optsol</th>\n",
       "      <th>output_optsol</th>\n",
       "    </tr>\n",
       "  </thead>\n",
       "  <tbody>\n",
       "    <tr>\n",
       "      <th>764</th>\n",
       "      <td>[1, 3, 2, 4]-[1, 3, 4, 2]-[1, 4, 2, 3]-[1, 4, ...</td>\n",
       "      <td>8</td>\n",
       "      <td>4</td>\n",
       "      <td>4</td>\n",
       "      <td>['[(2, 4), (1, 2), (3, 4), (3, 2), (1, 3), (1,...</td>\n",
       "    </tr>\n",
       "    <tr>\n",
       "      <th>1180</th>\n",
       "      <td>[1, 2, 4, 3]-[1, 3, 2, 4]-[1, 3, 4, 2]-[1, 4, ...</td>\n",
       "      <td>12</td>\n",
       "      <td>4</td>\n",
       "      <td>4</td>\n",
       "      <td>['[(1, 3), (1, 2), (4, 3), (3, 2), (4, 1), (4,...</td>\n",
       "    </tr>\n",
       "    <tr>\n",
       "      <th>960</th>\n",
       "      <td>[1, 2, 3, 4]-[1, 2, 4, 3]-[1, 3, 2, 4]-[1, 4, ...</td>\n",
       "      <td>10</td>\n",
       "      <td>4</td>\n",
       "      <td>7</td>\n",
       "      <td>['[(1, 4), (1, 2), (4, 3), (3, 2), (1, 3), (4,...</td>\n",
       "    </tr>\n",
       "    <tr>\n",
       "      <th>4</th>\n",
       "      <td>[3, 1, 2]</td>\n",
       "      <td>1</td>\n",
       "      <td>3</td>\n",
       "      <td>1</td>\n",
       "      <td>['[(3, 1), (3, 2), (1, 2)]']</td>\n",
       "    </tr>\n",
       "    <tr>\n",
       "      <th>1211</th>\n",
       "      <td>[1, 2, 3, 4]-[1, 3, 2, 4]-[1, 4, 3, 2]-[2, 3, ...</td>\n",
       "      <td>13</td>\n",
       "      <td>4</td>\n",
       "      <td>7</td>\n",
       "      <td>['[(1, 4), (1, 2), (4, 3), (3, 2), (1, 3), (4,...</td>\n",
       "    </tr>\n",
       "  </tbody>\n",
       "</table>\n",
       "</div>"
      ],
      "text/plain": [
       "                                                  input  input_size  \\\n",
       "764   [1, 3, 2, 4]-[1, 3, 4, 2]-[1, 4, 2, 3]-[1, 4, ...           8   \n",
       "1180  [1, 2, 4, 3]-[1, 3, 2, 4]-[1, 3, 4, 2]-[1, 4, ...          12   \n",
       "960   [1, 2, 3, 4]-[1, 2, 4, 3]-[1, 3, 2, 4]-[1, 4, ...          10   \n",
       "4                                             [3, 1, 2]           1   \n",
       "1211  [1, 2, 3, 4]-[1, 3, 2, 4]-[1, 4, 3, 2]-[2, 3, ...          13   \n",
       "\n",
       "      vertex_count  cost_optsol  \\\n",
       "764              4            4   \n",
       "1180             4            4   \n",
       "960              4            7   \n",
       "4                3            1   \n",
       "1211             4            7   \n",
       "\n",
       "                                          output_optsol  \n",
       "764   ['[(2, 4), (1, 2), (3, 4), (3, 2), (1, 3), (1,...  \n",
       "1180  ['[(1, 3), (1, 2), (4, 3), (3, 2), (4, 1), (4,...  \n",
       "960   ['[(1, 4), (1, 2), (4, 3), (3, 2), (1, 3), (4,...  \n",
       "4                          ['[(3, 1), (3, 2), (1, 2)]']  \n",
       "1211  ['[(1, 4), (1, 2), (4, 3), (3, 2), (1, 3), (4,...  "
      ]
     },
     "execution_count": 48,
     "metadata": {},
     "output_type": "execute_result"
    }
   ],
   "source": [
    "optsol.sample(n=5)"
   ]
  },
  {
   "cell_type": "code",
   "execution_count": 101,
   "metadata": {},
   "outputs": [
    {
     "name": "stdout",
     "output_type": "stream",
     "text": [
      "(2212, 10)\n"
     ]
    },
    {
     "data": {
      "text/html": [
       "<div>\n",
       "<style scoped>\n",
       "    .dataframe tbody tr th:only-of-type {\n",
       "        vertical-align: middle;\n",
       "    }\n",
       "\n",
       "    .dataframe tbody tr th {\n",
       "        vertical-align: top;\n",
       "    }\n",
       "\n",
       "    .dataframe thead th {\n",
       "        text-align: right;\n",
       "    }\n",
       "</style>\n",
       "<table border=\"1\" class=\"dataframe\">\n",
       "  <thead>\n",
       "    <tr style=\"text-align: right;\">\n",
       "      <th></th>\n",
       "      <th>runtime_algo2</th>\n",
       "      <th>input</th>\n",
       "      <th>input_size</th>\n",
       "      <th>vertex_count</th>\n",
       "      <th>cost_algo2</th>\n",
       "      <th>output_algo2</th>\n",
       "      <th>cost_optsol</th>\n",
       "      <th>output_optsol</th>\n",
       "      <th>num_rel_algo2</th>\n",
       "      <th>num_rel_optsol</th>\n",
       "    </tr>\n",
       "  </thead>\n",
       "  <tbody>\n",
       "    <tr>\n",
       "      <th>2115</th>\n",
       "      <td>0.002036</td>\n",
       "      <td>[1, 2, 4, 3]-[1, 3, 2, 4]-[1, 3, 4, 2]-[1, 4, ...</td>\n",
       "      <td>22</td>\n",
       "      <td>4</td>\n",
       "      <td>29</td>\n",
       "      <td>['[(1, 2), (1, 3), (1, 4), (2, 3), (4, 3)]', '...</td>\n",
       "      <td>5</td>\n",
       "      <td>['[(2, 4), (2, 1), (3, 4), (3, 1), (3, 2), (1,...</td>\n",
       "      <td>137</td>\n",
       "      <td>17</td>\n",
       "    </tr>\n",
       "    <tr>\n",
       "      <th>2029</th>\n",
       "      <td>0.001913</td>\n",
       "      <td>[1, 2, 3, 4]-[1, 2, 4, 3]-[1, 3, 2, 4]-[1, 4, ...</td>\n",
       "      <td>21</td>\n",
       "      <td>4</td>\n",
       "      <td>27</td>\n",
       "      <td>['[(1, 3), (1, 4), (2, 3), (2, 4)]', '[(1, 2),...</td>\n",
       "      <td>5</td>\n",
       "      <td>['[(2, 4), (1, 2), (3, 4), (3, 2), (1, 3), (1,...</td>\n",
       "      <td>129</td>\n",
       "      <td>19</td>\n",
       "    </tr>\n",
       "    <tr>\n",
       "      <th>1866</th>\n",
       "      <td>0.001473</td>\n",
       "      <td>[1, 2, 3, 4]-[1, 3, 2, 4]-[1, 3, 4, 2]-[1, 4, ...</td>\n",
       "      <td>19</td>\n",
       "      <td>4</td>\n",
       "      <td>23</td>\n",
       "      <td>['[(1, 2), (1, 3), (1, 4), (2, 4), (3, 4)]', '...</td>\n",
       "      <td>5</td>\n",
       "      <td>['[(2, 3), (2, 4), (1, 2), (3, 4), (1, 3), (1,...</td>\n",
       "      <td>109</td>\n",
       "      <td>18</td>\n",
       "    </tr>\n",
       "    <tr>\n",
       "      <th>1587</th>\n",
       "      <td>0.000957</td>\n",
       "      <td>[1, 2, 3, 4]-[1, 3, 2, 4]-[1, 4, 2, 3]-[1, 4, ...</td>\n",
       "      <td>17</td>\n",
       "      <td>4</td>\n",
       "      <td>18</td>\n",
       "      <td>['[(1, 2), (1, 3), (1, 4), (2, 4), (3, 4)]', '...</td>\n",
       "      <td>7</td>\n",
       "      <td>['[(2, 3), (1, 4), (1, 2), (4, 3), (1, 3), (4,...</td>\n",
       "      <td>90</td>\n",
       "      <td>33</td>\n",
       "    </tr>\n",
       "    <tr>\n",
       "      <th>523</th>\n",
       "      <td>0.000214</td>\n",
       "      <td>[1, 3, 2, 4]-[1, 3, 4, 2]-[1, 4, 3, 2]-[2, 3, ...</td>\n",
       "      <td>6</td>\n",
       "      <td>4</td>\n",
       "      <td>6</td>\n",
       "      <td>['[(1, 2), (1, 3), (1, 4), (3, 2), (3, 4)]', '...</td>\n",
       "      <td>4</td>\n",
       "      <td>['[(2, 4), (1, 2), (3, 4), (3, 2), (1, 3), (1,...</td>\n",
       "      <td>33</td>\n",
       "      <td>22</td>\n",
       "    </tr>\n",
       "  </tbody>\n",
       "</table>\n",
       "</div>"
      ],
      "text/plain": [
       "      runtime_algo2                                              input  \\\n",
       "2115       0.002036  [1, 2, 4, 3]-[1, 3, 2, 4]-[1, 3, 4, 2]-[1, 4, ...   \n",
       "2029       0.001913  [1, 2, 3, 4]-[1, 2, 4, 3]-[1, 3, 2, 4]-[1, 4, ...   \n",
       "1866       0.001473  [1, 2, 3, 4]-[1, 3, 2, 4]-[1, 3, 4, 2]-[1, 4, ...   \n",
       "1587       0.000957  [1, 2, 3, 4]-[1, 3, 2, 4]-[1, 4, 2, 3]-[1, 4, ...   \n",
       "523        0.000214  [1, 3, 2, 4]-[1, 3, 4, 2]-[1, 4, 3, 2]-[2, 3, ...   \n",
       "\n",
       "      input_size  vertex_count  cost_algo2  \\\n",
       "2115          22             4          29   \n",
       "2029          21             4          27   \n",
       "1866          19             4          23   \n",
       "1587          17             4          18   \n",
       "523            6             4           6   \n",
       "\n",
       "                                           output_algo2  cost_optsol  \\\n",
       "2115  ['[(1, 2), (1, 3), (1, 4), (2, 3), (4, 3)]', '...            5   \n",
       "2029  ['[(1, 3), (1, 4), (2, 3), (2, 4)]', '[(1, 2),...            5   \n",
       "1866  ['[(1, 2), (1, 3), (1, 4), (2, 4), (3, 4)]', '...            5   \n",
       "1587  ['[(1, 2), (1, 3), (1, 4), (2, 4), (3, 4)]', '...            7   \n",
       "523   ['[(1, 2), (1, 3), (1, 4), (3, 2), (3, 4)]', '...            4   \n",
       "\n",
       "                                          output_optsol  num_rel_algo2  \\\n",
       "2115  ['[(2, 4), (2, 1), (3, 4), (3, 1), (3, 2), (1,...            137   \n",
       "2029  ['[(2, 4), (1, 2), (3, 4), (3, 2), (1, 3), (1,...            129   \n",
       "1866  ['[(2, 3), (2, 4), (1, 2), (3, 4), (1, 3), (1,...            109   \n",
       "1587  ['[(2, 3), (1, 4), (1, 2), (4, 3), (1, 3), (4,...             90   \n",
       "523   ['[(2, 4), (1, 2), (3, 4), (3, 2), (1, 3), (1,...             33   \n",
       "\n",
       "      num_rel_optsol  \n",
       "2115              17  \n",
       "2029              19  \n",
       "1866              18  \n",
       "1587              33  \n",
       "523               22  "
      ]
     },
     "execution_count": 101,
     "metadata": {},
     "output_type": "execute_result"
    }
   ],
   "source": [
    "results = pd.merge(algo2, optsol, how='outer')\n",
    "results['num_rel_algo2'] = results['output_algo2'].map(lambda x: x.count('('))\n",
    "results['num_rel_optsol'] = results['output_optsol'].map(lambda x: x.count('('))\n",
    "\n",
    "print(results.shape)\n",
    "results.sample(n=5)"
   ]
  },
  {
   "cell_type": "code",
   "execution_count": 102,
   "metadata": {},
   "outputs": [
    {
     "name": "stdout",
     "output_type": "stream",
     "text": [
      "0\n"
     ]
    }
   ],
   "source": [
    "results['isApprox'] = np.where(results['cost_algo2'] >= results['cost_optsol'], results['cost_algo2'], np.nan)\n",
    "print(results['isApprox'].isna().sum())\n",
    "\n",
    "results.drop('isApprox', axis=1, inplace=True)"
   ]
  },
  {
   "cell_type": "code",
   "execution_count": 103,
   "metadata": {},
   "outputs": [
    {
     "data": {
      "text/plain": [
       "<AxesSubplot:xlabel='input_size', ylabel='runtime_algo2'>"
      ]
     },
     "execution_count": 103,
     "metadata": {},
     "output_type": "execute_result"
    },
    {
     "data": {
      "text/plain": [
       "<Figure size 432x288 with 0 Axes>"
      ]
     },
     "metadata": {},
     "output_type": "display_data"
    },
    {
     "data": {
      "image/png": "[encoded data removed]",
      "text/plain": [
       "<Figure size 432x288 with 1 Axes>"
      ]
     },
     "metadata": {
      "needs_background": "light"
     },
     "output_type": "display_data"
    },
    {
     "data": {
      "image/png": "[encoded data removed]",
      "text/plain": [
       "<Figure size 432x288 with 1 Axes>"
      ]
     },
     "metadata": {
      "needs_background": "light"
     },
     "output_type": "display_data"
    }
   ],
   "source": [
    "runtime = results[['input_size', 'runtime_algo2']]\n",
    "\n",
    "plt.figure()\n",
    "runtime.plot(x='input_size', y='runtime_algo2')\n",
    "runtime.plot.scatter(x='input_size', y='runtime_algo2')"
   ]
  },
  {
   "cell_type": "code",
   "execution_count": 104,
   "metadata": {},
   "outputs": [
    {
     "data": {
      "text/plain": [
       "<AxesSubplot:xlabel='input_size', ylabel='cost_optsol'>"
      ]
     },
     "execution_count": 104,
     "metadata": {},
     "output_type": "execute_result"
    },
    {
     "data": {
      "text/plain": [
       "<Figure size 432x288 with 0 Axes>"
      ]
     },
     "metadata": {},
     "output_type": "display_data"
    },
    {
     "data": {
      "image/png": "[encoded data removed]",
      "text/plain": [
       "<Figure size 432x288 with 1 Axes>"
      ]
     },
     "metadata": {
      "needs_background": "light"
     },
     "output_type": "display_data"
    },
    {
     "data": {
      "image/png": "[encoded data removed]",
      "text/plain": [
       "<Figure size 432x288 with 1 Axes>"
      ]
     },
     "metadata": {
      "needs_background": "light"
     },
     "output_type": "display_data"
    }
   ],
   "source": [
    "cost = results[['input_size', 'vertex_count', 'cost_algo2', 'cost_optsol']]\n",
    "\n",
    "plt.figure()\n",
    "cost.plot.scatter(x='input_size', y='cost_algo2')\n",
    "cost.plot.scatter(x='input_size', y='cost_optsol')"
   ]
  },
  {
   "cell_type": "code",
   "execution_count": 106,
   "metadata": {},
   "outputs": [
    {
     "data": {
      "text/plain": [
       "<AxesSubplot:xlabel='input_size', ylabel='num_rel_optsol'>"
      ]
     },
     "execution_count": 106,
     "metadata": {},
     "output_type": "execute_result"
    },
    {
     "data": {
      "text/plain": [
       "<Figure size 432x288 with 0 Axes>"
      ]
     },
     "metadata": {},
     "output_type": "display_data"
    },
    {
     "data": {
      "image/png": "[encoded data removed]",
      "text/plain": [
       "<Figure size 432x288 with 1 Axes>"
      ]
     },
     "metadata": {
      "needs_background": "light"
     },
     "output_type": "display_data"
    },
    {
     "data": {
      "image/png": "[encoded data removed]",
      "text/plain": [
       "<Figure size 432x288 with 1 Axes>"
      ]
     },
     "metadata": {
      "needs_background": "light"
     },
     "output_type": "display_data"
    }
   ],
   "source": [
    "num_rel = results[['input_size', 'num_rel_algo2', 'num_rel_optsol']]\n",
    "\n",
    "plt.figure()\n",
    "num_rel.plot.scatter(x='input_size', y='num_rel_algo2')\n",
    "num_rel.plot.scatter(x='input_size', y='num_rel_optsol')"
   ]
  }
 ],
 "metadata": {
  "kernelspec": {
   "display_name": "Python 3",
   "language": "python",
   "name": "python3"
  },
  "language_info": {
   "codemirror_mode": {
    "name": "ipython",
    "version": 3
   },
   "file_extension": ".py",
   "mimetype": "text/x-python",
   "name": "python",
   "nbconvert_exporter": "python",
   "pygments_lexer": "ipython3",
   "version": "3.7.3"
  }
 },
 "nbformat": 4,
 "nbformat_minor": 4
}
